{
 "cells": [
  {
   "cell_type": "markdown",
   "id": "b8dd03eb",
   "metadata": {},
   "source": [
    "# Problem Statement"
   ]
  },
  {
   "cell_type": "markdown",
   "id": "fd777241",
   "metadata": {},
   "source": [
    "### Our job here is to predict the salary of employees from their performances. Our goal here is to make and train a machine learning model which will read the data of the previous salary and predict the salary of the employee with utmost accuracy using several python libraries like Pandas, Numpy, Seaborn and machine learning algorithms."
   ]
  },
  {
   "cell_type": "markdown",
   "id": "db918fc3",
   "metadata": {},
   "source": [
    "## Solution - "
   ]
  },
  {
   "cell_type": "markdown",
   "id": "eb08e9a4",
   "metadata": {},
   "source": [
    "#### Importing the Libraries"
   ]
  },
  {
   "cell_type": "code",
   "execution_count": 19,
   "id": "d4a0b5de",
   "metadata": {},
   "outputs": [],
   "source": [
    "import pandas as pd\n",
    "import numpy as np\n",
    "import seaborn as sns"
   ]
  },
  {
   "cell_type": "markdown",
   "id": "e5de7d1f",
   "metadata": {},
   "source": [
    "#### Importing the dataset"
   ]
  },
  {
   "cell_type": "code",
   "execution_count": 20,
   "id": "b7b9621f",
   "metadata": {},
   "outputs": [],
   "source": [
    "df = pd.read_csv('C:/Users/Personal/Employee Salary Prediction Using Machine Learning Project/salary_predict_dataset.csv', header=0)"
   ]
  },
  {
   "cell_type": "code",
   "execution_count": 21,
   "id": "913f01e2",
   "metadata": {},
   "outputs": [],
   "source": [
    "X = df.drop('Salary', axis=1)\n",
    "y = df['Salary']"
   ]
  },
  {
   "cell_type": "markdown",
   "id": "8dcd4585",
   "metadata": {},
   "source": [
    "#### Data Preprocessing"
   ]
  },
  {
   "cell_type": "code",
   "execution_count": 22,
   "id": "358d2093",
   "metadata": {},
   "outputs": [
    {
     "name": "stdout",
     "output_type": "stream",
     "text": [
      "    experience  test_score  interview_score\n",
      "0          NaN    8.000000         8.000000\n",
      "1          NaN    5.000000         4.000000\n",
      "2          3.0    6.000000         5.000000\n",
      "3          5.0    9.000000         9.000000\n",
      "4          6.0    3.000000         5.000000\n",
      "5          NaN    2.000000         1.000000\n",
      "6         10.0    8.000000         6.000000\n",
      "7          1.0    1.000000         2.000000\n",
      "8         15.0    9.000000         9.000000\n",
      "9         13.0    7.500000         7.500000\n",
      "10        10.0    5.447368         5.000000\n",
      "11         NaN    1.000000         1.000000\n",
      "12         1.0    3.000000         6.000000\n",
      "13         4.0    5.000000         4.000000\n",
      "14         6.0    5.000000         5.657895\n",
      "15        11.0    9.000000         8.000000\n",
      "16        12.0    9.000000         9.000000\n",
      "17         NaN    2.000000         6.000000\n",
      "18         3.0    5.000000         5.000000\n",
      "19         5.0    6.000000         7.000000\n"
     ]
    }
   ],
   "source": [
    "# Imputing the Nan values with the mean value\n",
    "from sklearn.impute import SimpleImputer\n",
    "imputer = SimpleImputer(missing_values=np.nan, strategy='mean')\n",
    "imputer = imputer.fit(X.iloc[:,1:]) #identifies the missing values\n",
    "X.iloc[:,1:] = imputer.transform(X.iloc[:, 1:]) #replaces the missing values with the mean. \n",
    "print(X)"
   ]
  },
  {
   "cell_type": "code",
   "execution_count": 23,
   "id": "6bc9c155",
   "metadata": {},
   "outputs": [],
   "source": [
    "df.experience = df.experience.fillna('Freshers')"
   ]
  },
  {
   "cell_type": "markdown",
   "id": "396c1798",
   "metadata": {},
   "source": [
    "#### Data Visualization"
   ]
  },
  {
   "cell_type": "code",
   "execution_count": 24,
   "id": "54660d93",
   "metadata": {},
   "outputs": [
    {
     "data": {
      "text/plain": [
       "<seaborn.axisgrid.PairGrid at 0x1b9bdc04a00>"
      ]
     },
     "execution_count": 24,
     "metadata": {},
     "output_type": "execute_result"
    },
    {
     "data": {
      "image/png": "[encoded data removed]",
      "text/plain": [
       "<Figure size 540x540 with 12 Axes>"
      ]
     },
     "metadata": {
      "needs_background": "light"
     },
     "output_type": "display_data"
    }
   ],
   "source": [
    "sns.pairplot(df)"
   ]
  },
  {
   "cell_type": "code",
   "execution_count": 25,
   "id": "dee6b657",
   "metadata": {},
   "outputs": [
    {
     "data": {
      "text/html": [
       "<div>\n",
       "<style scoped>\n",
       "    .dataframe tbody tr th:only-of-type {\n",
       "        vertical-align: middle;\n",
       "    }\n",
       "\n",
       "    .dataframe tbody tr th {\n",
       "        vertical-align: top;\n",
       "    }\n",
       "\n",
       "    .dataframe thead th {\n",
       "        text-align: right;\n",
       "    }\n",
       "</style>\n",
       "<table border=\"1\" class=\"dataframe\">\n",
       "  <thead>\n",
       "    <tr style=\"text-align: right;\">\n",
       "      <th></th>\n",
       "      <th>test_score</th>\n",
       "      <th>interview_score</th>\n",
       "      <th>Salary</th>\n",
       "    </tr>\n",
       "  </thead>\n",
       "  <tbody>\n",
       "    <tr>\n",
       "      <th>count</th>\n",
       "      <td>19.000000</td>\n",
       "      <td>19.000000</td>\n",
       "      <td>20.000000</td>\n",
       "    </tr>\n",
       "    <tr>\n",
       "      <th>mean</th>\n",
       "      <td>5.447368</td>\n",
       "      <td>5.657895</td>\n",
       "      <td>30350.000000</td>\n",
       "    </tr>\n",
       "    <tr>\n",
       "      <th>std</th>\n",
       "      <td>2.832817</td>\n",
       "      <td>2.516902</td>\n",
       "      <td>19780.439567</td>\n",
       "    </tr>\n",
       "    <tr>\n",
       "      <th>min</th>\n",
       "      <td>1.000000</td>\n",
       "      <td>1.000000</td>\n",
       "      <td>500.000000</td>\n",
       "    </tr>\n",
       "    <tr>\n",
       "      <th>25%</th>\n",
       "      <td>3.000000</td>\n",
       "      <td>4.500000</td>\n",
       "      <td>12750.000000</td>\n",
       "    </tr>\n",
       "    <tr>\n",
       "      <th>50%</th>\n",
       "      <td>5.000000</td>\n",
       "      <td>6.000000</td>\n",
       "      <td>27500.000000</td>\n",
       "    </tr>\n",
       "    <tr>\n",
       "      <th>75%</th>\n",
       "      <td>8.000000</td>\n",
       "      <td>7.750000</td>\n",
       "      <td>48500.000000</td>\n",
       "    </tr>\n",
       "    <tr>\n",
       "      <th>max</th>\n",
       "      <td>9.000000</td>\n",
       "      <td>9.000000</td>\n",
       "      <td>60000.000000</td>\n",
       "    </tr>\n",
       "  </tbody>\n",
       "</table>\n",
       "</div>"
      ],
      "text/plain": [
       "       test_score  interview_score        Salary\n",
       "count   19.000000        19.000000     20.000000\n",
       "mean     5.447368         5.657895  30350.000000\n",
       "std      2.832817         2.516902  19780.439567\n",
       "min      1.000000         1.000000    500.000000\n",
       "25%      3.000000         4.500000  12750.000000\n",
       "50%      5.000000         6.000000  27500.000000\n",
       "75%      8.000000         7.750000  48500.000000\n",
       "max      9.000000         9.000000  60000.000000"
      ]
     },
     "execution_count": 25,
     "metadata": {},
     "output_type": "execute_result"
    }
   ],
   "source": [
    "df.describe()"
   ]
  },
  {
   "cell_type": "code",
   "execution_count": 26,
   "id": "906cb6ec",
   "metadata": {},
   "outputs": [
    {
     "name": "stdout",
     "output_type": "stream",
     "text": [
      "<class 'pandas.core.frame.DataFrame'>\n",
      "RangeIndex: 20 entries, 0 to 19\n",
      "Data columns (total 4 columns):\n",
      " #   Column           Non-Null Count  Dtype  \n",
      "---  ------           --------------  -----  \n",
      " 0   experience       20 non-null     object \n",
      " 1   test_score       19 non-null     float64\n",
      " 2   interview_score  19 non-null     float64\n",
      " 3   Salary           20 non-null     int64  \n",
      "dtypes: float64(2), int64(1), object(1)\n",
      "memory usage: 768.0+ bytes\n"
     ]
    }
   ],
   "source": [
    "df.info()"
   ]
  },
  {
   "cell_type": "code",
   "execution_count": 27,
   "id": "88a99c4b",
   "metadata": {},
   "outputs": [
    {
     "data": {
      "text/html": [
       "<div>\n",
       "<style scoped>\n",
       "    .dataframe tbody tr th:only-of-type {\n",
       "        vertical-align: middle;\n",
       "    }\n",
       "\n",
       "    .dataframe tbody tr th {\n",
       "        vertical-align: top;\n",
       "    }\n",
       "\n",
       "    .dataframe thead th {\n",
       "        text-align: right;\n",
       "    }\n",
       "</style>\n",
       "<table border=\"1\" class=\"dataframe\">\n",
       "  <thead>\n",
       "    <tr style=\"text-align: right;\">\n",
       "      <th></th>\n",
       "      <th>test_score</th>\n",
       "      <th>interview_score</th>\n",
       "      <th>Salary</th>\n",
       "    </tr>\n",
       "  </thead>\n",
       "  <tbody>\n",
       "    <tr>\n",
       "      <th>test_score</th>\n",
       "      <td>1.000000</td>\n",
       "      <td>0.854358</td>\n",
       "      <td>0.947761</td>\n",
       "    </tr>\n",
       "    <tr>\n",
       "      <th>interview_score</th>\n",
       "      <td>0.854358</td>\n",
       "      <td>1.000000</td>\n",
       "      <td>0.882128</td>\n",
       "    </tr>\n",
       "    <tr>\n",
       "      <th>Salary</th>\n",
       "      <td>0.947761</td>\n",
       "      <td>0.882128</td>\n",
       "      <td>1.000000</td>\n",
       "    </tr>\n",
       "  </tbody>\n",
       "</table>\n",
       "</div>"
      ],
      "text/plain": [
       "                 test_score  interview_score    Salary\n",
       "test_score         1.000000         0.854358  0.947761\n",
       "interview_score    0.854358         1.000000  0.882128\n",
       "Salary             0.947761         0.882128  1.000000"
      ]
     },
     "execution_count": 27,
     "metadata": {},
     "output_type": "execute_result"
    }
   ],
   "source": [
    "df.corr()"
   ]
  },
  {
   "cell_type": "code",
   "execution_count": 28,
   "id": "094907bd",
   "metadata": {},
   "outputs": [
    {
     "name": "stdout",
     "output_type": "stream",
     "text": [
      "    test_score  interview_score\n",
      "0     8.000000         8.000000\n",
      "1     5.000000         4.000000\n",
      "2     6.000000         5.000000\n",
      "3     9.000000         9.000000\n",
      "4     3.000000         5.000000\n",
      "5     2.000000         1.000000\n",
      "6     8.000000         6.000000\n",
      "7     1.000000         2.000000\n",
      "8     9.000000         9.000000\n",
      "9     7.500000         7.500000\n",
      "10    5.447368         5.000000\n",
      "11    1.000000         1.000000\n",
      "12    3.000000         6.000000\n",
      "13    5.000000         4.000000\n",
      "14    5.000000         5.657895\n",
      "15    9.000000         8.000000\n",
      "16    9.000000         9.000000\n",
      "17    2.000000         6.000000\n",
      "18    5.000000         5.000000\n",
      "19    6.000000         7.000000\n"
     ]
    }
   ],
   "source": [
    "#dropping the experience column\n",
    "X.drop(columns = ['experience'], inplace = True)\n",
    "print(X)"
   ]
  },
  {
   "cell_type": "markdown",
   "id": "8490d308",
   "metadata": {},
   "source": [
    "#### Splitting of the data"
   ]
  },
  {
   "cell_type": "code",
   "execution_count": 29,
   "id": "56c75007",
   "metadata": {},
   "outputs": [
    {
     "name": "stdout",
     "output_type": "stream",
     "text": [
      "    test_score  interview_score\n",
      "10    5.447368         5.000000\n",
      "17    2.000000         6.000000\n",
      "6     8.000000         6.000000\n",
      "13    5.000000         4.000000\n",
      "4     3.000000         5.000000\n",
      "2     6.000000         5.000000\n",
      "5     2.000000         1.000000\n",
      "14    5.000000         5.657895\n",
      "9     7.500000         7.500000\n",
      "7     1.000000         2.000000\n",
      "16    9.000000         9.000000\n",
      "11    1.000000         1.000000\n",
      "3     9.000000         9.000000\n",
      "0     8.000000         8.000000\n",
      "15    9.000000         8.000000\n",
      "12    3.000000         6.000000\n"
     ]
    }
   ],
   "source": [
    "from sklearn.model_selection import train_test_split\n",
    "X_train, X_test, y_train, y_test = train_test_split(X, y, test_size = 0.2, random_state = 0)\n",
    "print(X_train)"
   ]
  },
  {
   "cell_type": "markdown",
   "id": "8a9fac6f",
   "metadata": {},
   "source": [
    "#### Model Selection"
   ]
  },
  {
   "cell_type": "code",
   "execution_count": 30,
   "id": "4911aaf6",
   "metadata": {},
   "outputs": [
    {
     "data": {
      "text/plain": [
       "LinearRegression()"
      ]
     },
     "execution_count": 30,
     "metadata": {},
     "output_type": "execute_result"
    }
   ],
   "source": [
    "from sklearn.linear_model import LinearRegression\n",
    "#creating model object\n",
    "lm = LinearRegression()\n",
    "#fitting the model object in the model\n",
    "lm.fit(X, y)"
   ]
  },
  {
   "cell_type": "markdown",
   "id": "31fe00e6",
   "metadata": {},
   "source": [
    "#### Prediction"
   ]
  },
  {
   "cell_type": "code",
   "execution_count": 31,
   "id": "4ed225bd",
   "metadata": {},
   "outputs": [],
   "source": [
    "y_pred = lm.predict(X_test)"
   ]
  },
  {
   "cell_type": "code",
   "execution_count": 32,
   "id": "07d83308",
   "metadata": {},
   "outputs": [
    {
     "name": "stdout",
     "output_type": "stream",
     "text": [
      "[26896.89712319 25588.76908714 35308.13604338 55309.34065973]\n"
     ]
    }
   ],
   "source": [
    "print(y_pred)"
   ]
  },
  {
   "cell_type": "markdown",
   "id": "e04e924d",
   "metadata": {},
   "source": [
    "#### Validation and Model Accuracy"
   ]
  },
  {
   "cell_type": "code",
   "execution_count": 33,
   "id": "b42ed2d3",
   "metadata": {},
   "outputs": [
    {
     "name": "stdout",
     "output_type": "stream",
     "text": [
      "The accuracy of the model is  91.88161432442143 %\n"
     ]
    }
   ],
   "source": [
    "#using r2_score method\n",
    "from sklearn.metrics import r2_score\n",
    "score = r2_score(y_test, y_pred)\n",
    "print(\"The accuracy of the model is \", score*100, \"%\")"
   ]
  },
  {
   "cell_type": "code",
   "execution_count": 34,
   "id": "0bc246e3",
   "metadata": {},
   "outputs": [
    {
     "data": {
      "text/plain": [
       "<seaborn.axisgrid.JointGrid at 0x1b9bdc04af0>"
      ]
     },
     "execution_count": 34,
     "metadata": {},
     "output_type": "execute_result"
    },
    {
     "data": {
      "image/png": "[encoded data removed]",
      "text/plain": [
       "<Figure size 432x432 with 3 Axes>"
      ]
     },
     "metadata": {
      "needs_background": "light"
     },
     "output_type": "display_data"
    }
   ],
   "source": [
    "sns.jointplot(x=y_test, y=y_pred)"
   ]
  },
  {
   "cell_type": "markdown",
   "id": "7c86cca5",
   "metadata": {},
   "source": [
    "## End"
   ]
  }
 ],
 "metadata": {
  "kernelspec": {
   "display_name": "Python 3 (ipykernel)",
   "language": "python",
   "name": "python3"
  },
  "language_info": {
   "codemirror_mode": {
    "name": "ipython",
    "version": 3
   },
   "file_extension": ".py",
   "mimetype": "text/x-python",
   "name": "python",
   "nbconvert_exporter": "python",
   "pygments_lexer": "ipython3",
   "version": "3.9.7"
  }
 },
 "nbformat": 4,
 "nbformat_minor": 5
}
